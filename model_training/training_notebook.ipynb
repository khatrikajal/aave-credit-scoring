{
  "cells": [
    {
      "cell_type": "code",
      "execution_count": null,
      "metadata": {
        "colab": {
          "base_uri": "https://localhost:8080/"
        },
        "id": "l9KlofRhVCJ3",
        "outputId": "508fd816-c9fc-4c3d-8119-d3af26f1ddcd"
      },
      "outputs": [
        {
          "name": "stdout",
          "output_type": "stream",
          "text": [
            "action                              wallet_address  label          risk_level\n",
            "0       0x00000000001accfa9cef68cf5371a23025b6d4b6      3  🔵 Average Standing\n",
            "1       0x000000000051d07a4fb3bd10121a343d85818da6      3  🔵 Average Standing\n",
            "2       0x000000000096026fb41fc39f9875d164bd82e2dc      3  🔵 Average Standing\n",
            "3       0x0000000000e189dd664b9ab08a33c4839953852c      3  🔵 Average Standing\n",
            "4       0x0000000002032370b971dabd36d72f3e5a7bf1ee      3  🔵 Average Standing\n",
            "...                                            ...    ...                 ...\n",
            "3492    0x06185db89f5c8ef5e5a0abc95c5cb69b54c33f30      3  🔵 Average Standing\n",
            "3493    0x06189341e523a52ae10c4bd4a7774371fac1b249      3  🔵 Average Standing\n",
            "3494    0x0618c450370822c5cb25ec143a3008230d8e2c12      3  🔵 Average Standing\n",
            "3495    0x0618e615c8c9b5efc8c8eadc68be7182bdc455e2      3  🔵 Average Standing\n",
            "3496    0x06192f889f17bf2aff238d08d8c26cbcfcc7b45a      2     🟡 Moderate Risk\n",
            "\n",
            "[3497 rows x 3 columns]\n"
          ]
        }
      ],
      "source": [
        "import pandas as pd\n",
        "import numpy as np\n",
        "import json\n",
        "\n",
        "\n",
        "with open(\"D:\\aave-credit-scoring\\data\\user-wallet-transactions.json\", \"r\") as f:\n",
        "    data = json.load(f)\n",
        "\n",
        "\n",
        "if isinstance(data, dict):\n",
        "    data = [data]\n",
        "\n",
        "df = pd.DataFrame(data)\n",
        "\n",
        "\n",
        "df.columns = df.columns.str.lower().str.strip()\n",
        "\n",
        "\n",
        "if 'wallet_address' not in df.columns and 'userwallet' in df.columns:\n",
        "    df['wallet_address'] = df['userwallet']\n",
        "\n",
        "# Handle actiondata\n",
        "if 'actiondata' in df.columns:\n",
        "    df['amount'] = df['actiondata'].apply(lambda x: x.get('amount') if isinstance(x, dict) else None)\n",
        "    df['action'] = df['actiondata'].apply(lambda x: x.get('type') if isinstance(x, dict) else None)\n",
        "\n",
        "df['amount'] = pd.to_numeric(df['amount'], errors='coerce')\n",
        "df['action'] = df['action'].str.lower().fillna('unknown')\n",
        "\n",
        "\n",
        "grouped = df.groupby(['wallet_address', 'action'])['amount'].sum().unstack(fill_value=0).reset_index()\n",
        "grouped['total_deposit_amount'] = grouped.get('deposit', 0)\n",
        "grouped['total_borrow_amount'] = grouped.get('borrow', 0)\n",
        "grouped['total_repay_amount'] = grouped.get('repay', 0)\n",
        "grouped['repay_to_borrow_ratio'] = np.where(grouped['total_borrow_amount'] > 0,\n",
        "                                            grouped['total_repay_amount'] / grouped['total_borrow_amount'], 0)\n",
        "grouped['borrow_to_deposit_ratio'] = np.where(grouped['total_deposit_amount'] > 0,\n",
        "                                              grouped['total_borrow_amount'] / grouped['total_deposit_amount'], 0)\n",
        "\n",
        "\n",
        "df['action'] = df['action'].fillna('unknown')\n",
        "liquidation = df[df['action'] == 'liquidationcall'].groupby('wallet_address').size()\n",
        "grouped['liquidation_count'] = grouped['wallet_address'].map(liquidation).fillna(0).astype(int)\n",
        "\n",
        "tx_count = df.groupby('wallet_address').size()\n",
        "grouped['num_transactions'] = grouped['wallet_address'].map(tx_count).fillna(0).astype(int)\n",
        "\n",
        "# ---------------- Labeling Rules ------------------\n",
        "\n",
        "def assign_risk_label(row):\n",
        "    repay_ratio = row['repay_to_borrow_ratio']\n",
        "    liquidation = row['liquidation_count']\n",
        "    borrow_amt = row['total_borrow_amount']\n",
        "    deposit_amt = row['total_deposit_amount']\n",
        "    tx_count = row['num_transactions']\n",
        "\n",
        "    if deposit_amt < 1e6 and liquidation >= 2:\n",
        "        return 0  # Critical Risk\n",
        "    elif repay_ratio < 0.2 and borrow_amt > 0 and liquidation >= 1:\n",
        "        return 1  # Risky\n",
        "    elif 0.2 <= repay_ratio < 0.6 or liquidation == 1:\n",
        "        return 2  # Moderate Risk\n",
        "    elif 0.6 <= repay_ratio < 0.85:\n",
        "        return 3  # Average Standing\n",
        "    elif repay_ratio >= 0.85 and tx_count >= 5:\n",
        "        return 4  # Safe\n",
        "    elif repay_ratio == 1 and liquidation == 0 and tx_count >= 10:\n",
        "        return 5  # Excellent\n",
        "    else:\n",
        "        return 3  # Default: Average Standing\n",
        "\n",
        "grouped['label'] = grouped.apply(assign_risk_label, axis=1)\n",
        "\n",
        "\n",
        "risk_level_map = {\n",
        "    0: '🔴 Critical Risk',\n",
        "    1: '🟠 Risky',\n",
        "    2: '🟡 Moderate Risk',\n",
        "    3: '🔵 Average Standing',\n",
        "    4: '🟢 Safe',\n",
        "    5: '✅ Excellent'\n",
        "}\n",
        "grouped['risk_level'] = grouped['label'].map(risk_level_map)\n",
        "\n",
        "# ---------------- Final Output ------------------\n",
        "print(grouped[['wallet_address', 'label', 'risk_level']])\n",
        "grouped.to_csv(\"labeled_wallets.csv\", index=False)\n"
      ]
    },
    {
      "cell_type": "code",
      "execution_count": null,
      "metadata": {
        "colab": {
          "base_uri": "https://localhost:8080/"
        },
        "id": "ukB7TOYMXDk1",
        "outputId": "eb5f6f2d-a5b9-45e4-fadd-3e82679d2e56"
      },
      "outputs": [
        {
          "name": "stdout",
          "output_type": "stream",
          "text": [
            "action                              wallet_address  label       risk_level\n",
            "47      0x000deb0c92e6d3da7f77ed01b8473b3f7f4efc39      2  🟡 Moderate Risk\n",
            "115     0x002d2715b179d0db3e17cc28317a98f2f65e6884      2  🟡 Moderate Risk\n",
            "117     0x002dcc4d0ad0bdce1c444ad0bb4d51ac7e61d62b      2  🟡 Moderate Risk\n",
            "188     0x0048e6fd005224e7e9f00058c630307f0710a84b      2  🟡 Moderate Risk\n",
            "189     0x0049436d8c3da52d604cdc390e45026b2662d7f7      2  🟡 Moderate Risk\n",
            "...                                            ...    ...              ...\n",
            "3298    0x05c18ffc1c74cb67cb26bb5222aaf3355b74bbc3      2  🟡 Moderate Risk\n",
            "3381    0x05e09b56ec91620f9bab354c573712e446f8eb11      2  🟡 Moderate Risk\n",
            "3442    0x05fc68f4b7714389a17128653f82d50bee98e542      2  🟡 Moderate Risk\n",
            "3452    0x06056feef38a0c5ec0a1c7c8f3d4d4c06023b298      2  🟡 Moderate Risk\n",
            "3496    0x06192f889f17bf2aff238d08d8c26cbcfcc7b45a      2  🟡 Moderate Risk\n",
            "\n",
            "[132 rows x 3 columns]\n"
          ]
        }
      ],
      "source": [
        "# Filter for Moderate Risk\n",
        "moderate_df = grouped[grouped['risk_level'] == '🟡 Moderate Risk']\n",
        "print(moderate_df[['wallet_address', 'label', 'risk_level']])\n"
      ]
    },
    {
      "cell_type": "code",
      "execution_count": null,
      "metadata": {
        "colab": {
          "base_uri": "https://localhost:8080/"
        },
        "id": "tJBRJBa8ZWXg",
        "outputId": "f31580c3-66ac-4d3b-d393-c3e533c7349a"
      },
      "outputs": [
        {
          "name": "stdout",
          "output_type": "stream",
          "text": [
            "label\n",
            "3    2693\n",
            "4     615\n",
            "2     132\n",
            "1      56\n",
            "0       1\n",
            "Name: count, dtype: int64\n"
          ]
        }
      ],
      "source": [
        "print(grouped['label'].value_counts())\n"
      ]
    },
    {
      "cell_type": "code",
      "execution_count": null,
      "metadata": {
        "colab": {
          "base_uri": "https://localhost:8080/"
        },
        "id": "xavHUZ18aIjO",
        "outputId": "6eaec9c8-8265-4423-d89c-b8b4c480e689"
      },
      "outputs": [
        {
          "name": "stdout",
          "output_type": "stream",
          "text": [
            "Empty DataFrame\n",
            "Columns: [wallet_address, label, risk_level]\n",
            "Index: []\n"
          ]
        }
      ],
      "source": [
        "\n",
        "safe_wallets = grouped[grouped['label'] == 5]\n",
        "\n",
        "\n",
        "print(safe_wallets[['wallet_address', 'label', 'risk_level']])\n",
        "\n",
        "\n",
        "safe_wallets.to_csv(\"safe_wallets.csv\", index=False)\n"
      ]
    },
    {
      "cell_type": "code",
      "execution_count": null,
      "metadata": {
        "colab": {
          "base_uri": "https://localhost:8080/"
        },
        "id": "-O8AU_UXbI9X",
        "outputId": "cbf10b8e-afb8-44e7-9a96-969b94551adc"
      },
      "outputs": [
        {
          "data": {
            "text/plain": [
              "(label\n",
              " 0     20\n",
              " 1     30\n",
              " 2    100\n",
              " 3    700\n",
              " 4    150\n",
              " Name: count, dtype: int64,\n",
              " label\n",
              " 0     2.0\n",
              " 1     3.0\n",
              " 2    10.0\n",
              " 3    70.0\n",
              " 4    15.0\n",
              " Name: count, dtype: float64)"
            ]
          },
          "execution_count": 22,
          "metadata": {},
          "output_type": "execute_result"
        }
      ],
      "source": [
        "import pandas as pd\n",
        "\n",
        "data = {\n",
        "    \"wallet_address\": [f\"0x{i:04x}\" for i in range(1, 1001)],\n",
        "    \"total_deposit_amount\": [1e12] * 1000,\n",
        "    \"total_borrow_amount\": [5e11] * 1000,\n",
        "    \"total_repay_amount\": [4e11] * 1000,\n",
        "    \"repay_to_borrow_ratio\": [0.8] * 1000,\n",
        "    \"borrow_to_deposit_ratio\": [0.5] * 1000,\n",
        "    \"liquidation_count\": [0] * 1000,\n",
        "    \"num_transactions\": [10] * 1000,\n",
        "    \"label\": [3]*700 + [4]*150 + [2]*100 + [1]*30 + [0]*20  # Skewed label distribution\n",
        "}\n",
        "df = pd.DataFrame(data)\n",
        "\n",
        "\n",
        "label_counts = df['label'].value_counts().sort_index()\n",
        "\n",
        "\n",
        "label_distribution = (label_counts / len(df)) * 100\n",
        "\n",
        "label_counts, label_distribution.round(2)\n",
        "\n"
      ]
    },
    {
      "cell_type": "code",
      "execution_count": null,
      "metadata": {
        "colab": {
          "base_uri": "https://localhost:8080/"
        },
        "id": "Tk9j6w5ncRmU",
        "outputId": "58a25577-91df-4e57-b3d5-f895eba7033e"
      },
      "outputs": [
        {
          "name": "stdout",
          "output_type": "stream",
          "text": [
            "Label counts:\n",
            " label\n",
            "0     20\n",
            "1     30\n",
            "2    100\n",
            "3    700\n",
            "4    150\n",
            "Name: count, dtype: int64\n",
            "\n",
            "Label percentages:\n",
            " label\n",
            "0     2.0\n",
            "1     3.0\n",
            "2    10.0\n",
            "3    70.0\n",
            "4    15.0\n",
            "Name: count, dtype: float64\n"
          ]
        }
      ],
      "source": [
        "label_counts = df['label'].value_counts().sort_index()\n",
        "label_percentages = (label_counts / len(df)) * 100\n",
        "print(\"Label counts:\\n\", label_counts)\n",
        "print(\"\\nLabel percentages:\\n\", label_percentages.round(2))\n"
      ]
    },
    {
      "cell_type": "code",
      "execution_count": null,
      "metadata": {
        "colab": {
          "base_uri": "https://localhost:8080/"
        },
        "id": "0KO9hTytdTUr",
        "outputId": "5eeb0a3e-c360-45a0-8568-1745a1afbddc"
      },
      "outputs": [
        {
          "name": "stdout",
          "output_type": "stream",
          "text": [
            "Requirement already satisfied: imbalanced-learn in /usr/local/lib/python3.11/dist-packages (0.13.0)\n",
            "Requirement already satisfied: numpy<3,>=1.24.3 in /usr/local/lib/python3.11/dist-packages (from imbalanced-learn) (2.0.2)\n",
            "Requirement already satisfied: scipy<2,>=1.10.1 in /usr/local/lib/python3.11/dist-packages (from imbalanced-learn) (1.16.0)\n",
            "Requirement already satisfied: scikit-learn<2,>=1.3.2 in /usr/local/lib/python3.11/dist-packages (from imbalanced-learn) (1.6.1)\n",
            "Requirement already satisfied: sklearn-compat<1,>=0.1 in /usr/local/lib/python3.11/dist-packages (from imbalanced-learn) (0.1.3)\n",
            "Requirement already satisfied: joblib<2,>=1.1.1 in /usr/local/lib/python3.11/dist-packages (from imbalanced-learn) (1.5.1)\n",
            "Requirement already satisfied: threadpoolctl<4,>=2.0.0 in /usr/local/lib/python3.11/dist-packages (from imbalanced-learn) (3.6.0)\n"
          ]
        }
      ],
      "source": [
        "!pip install imbalanced-learn\n"
      ]
    },
    {
      "cell_type": "code",
      "execution_count": null,
      "metadata": {
        "colab": {
          "base_uri": "https://localhost:8080/"
        },
        "id": "eIAxbkwAdgFr",
        "outputId": "3c94bb9c-cedc-4555-91b0-e3122d8e8d47"
      },
      "outputs": [
        {
          "name": "stdout",
          "output_type": "stream",
          "text": [
            "✅ Classification Report:\n",
            "                  precision    recall  f1-score   support\n",
            "\n",
            "       High Risk       1.00      1.00      1.00       140\n",
            "        Low Risk       1.00      1.00      1.00       140\n",
            "   Moderate Risk       1.00      1.00      1.00       140\n",
            "Average Standing       1.00      1.00      1.00       140\n",
            "            Safe       1.00      1.00      1.00       140\n",
            "\n",
            "        accuracy                           1.00       700\n",
            "       macro avg       1.00      1.00      1.00       700\n",
            "    weighted avg       1.00      1.00      1.00       700\n",
            "\n",
            "✅ Confusion Matrix:\n",
            "[[140   0   0   0   0]\n",
            " [  0 140   0   0   0]\n",
            " [  0   0 140   0   0]\n",
            " [  0   0   0 140   0]\n",
            " [  0   0   0   0 140]]\n"
          ]
        }
      ],
      "source": [
        "import pandas as pd\n",
        "from sklearn.model_selection import train_test_split\n",
        "from sklearn.preprocessing import MinMaxScaler\n",
        "from sklearn.ensemble import RandomForestClassifier\n",
        "from sklearn.metrics import classification_report, confusion_matrix\n",
        "from imblearn.over_sampling import SMOTE\n",
        "\n",
        "\n",
        "df = pd.DataFrame({\n",
        "    \"wallet_address\": [f\"0x{i:04x}\" for i in range(1000)],\n",
        "    \"total_deposit_amount\": [1e12]*1000,\n",
        "    \"total_borrow_amount\": [5e11]*1000,\n",
        "    \"total_repay_amount\": [4e11]*1000,\n",
        "    \"repay_to_borrow_ratio\": [0.8]*700 + [0.5]*150 + [0.2]*100 + [0.1]*30 + [0]*20,\n",
        "    \"borrow_to_deposit_ratio\": [0.5]*1000,\n",
        "    \"liquidation_count\": [0]*950 + [1]*50,\n",
        "    \"num_transactions\": [10]*1000,\n",
        "    \"label\": [3]*700 + [4]*150 + [2]*100 + [1]*30 + [0]*20,  # Skewed labels\n",
        "})\n",
        "\n",
        "\n",
        "X = df.drop(columns=['wallet_address', 'label'], errors='ignore')\n",
        "y = df['label']\n",
        "\n",
        "# Scale the features\n",
        "scaler = MinMaxScaler()\n",
        "X_scaled = scaler.fit_transform(X)\n",
        "\n",
        "# ---------------- Apply SMOTE ------------------\n",
        "smote = SMOTE(random_state=42)\n",
        "X_resampled, y_resampled = smote.fit_resample(X_scaled, y)\n",
        "\n",
        "# ---------------- Train-Test Split ------------------\n",
        "X_train, X_test, y_train, y_test = train_test_split(\n",
        "    X_resampled, y_resampled, test_size=0.2, stratify=y_resampled, random_state=42\n",
        ")\n",
        "\n",
        "# ---------------- Train Random Forest ------------------\n",
        "model = RandomForestClassifier(n_estimators=100, random_state=42)\n",
        "model.fit(X_train, y_train)\n",
        "\n",
        "# ---------------- Evaluate ------------------\n",
        "y_pred = model.predict(X_test)\n",
        "\n",
        "print(\"✅ Classification Report:\")\n",
        "print(classification_report(y_test, y_pred, target_names=[\n",
        "    \"High Risk\", \"Low Risk\", \"Moderate Risk\", \"Average Standing\", \"Safe\"\n",
        "]))\n",
        "\n",
        "print(\"✅ Confusion Matrix:\")\n",
        "print(confusion_matrix(y_test, y_pred))\n"
      ]
    },
    {
      "cell_type": "code",
      "execution_count": null,
      "metadata": {
        "colab": {
          "base_uri": "https://localhost:8080/",
          "height": 487
        },
        "id": "21g8Fyg6i04s",
        "outputId": "c160f125-10fc-47e0-a6e5-288615603d80"
      },
      "outputs": [
        {
          "data": {
            "image/png": "[encoded data removed]",
            "text/plain": [
              "<Figure size 1000x500 with 1 Axes>"
            ]
          },
          "metadata": {},
          "output_type": "display_data"
        }
      ],
      "source": [
        "import matplotlib.pyplot as plt\n",
        "\n",
        "importances = model.feature_importances_\n",
        "features = df.drop(columns=['wallet_address', 'label']).columns\n",
        "\n",
        "plt.figure(figsize=(10,5))\n",
        "plt.barh(features, importances)\n",
        "plt.title(\"Feature Importance\")\n",
        "plt.xlabel(\"Importance Score\")\n",
        "plt.show()\n"
      ]
    },
    {
      "cell_type": "code",
      "execution_count": null,
      "metadata": {
        "colab": {
          "base_uri": "https://localhost:8080/"
        },
        "id": "Kk8bO_lYjZgy",
        "outputId": "d38039c2-15be-49c5-ed54-669056939fba"
      },
      "outputs": [
        {
          "data": {
            "text/plain": [
              "['rf_credit_model.pkl']"
            ]
          },
          "execution_count": 35,
          "metadata": {},
          "output_type": "execute_result"
        }
      ],
      "source": [
        "import joblib\n",
        "\n",
        "\n",
        "joblib.dump(scaler, \"credit_scaler.pkl\")\n",
        "joblib.dump(model, \"rf_credit_model.pkl\")\n",
        "\n"
      ]
    },
    {
      "cell_type": "code",
      "execution_count": null,
      "metadata": {
        "id": "8c3b2IUrpxEN"
      },
      "outputs": [],
      "source": []
    }
  ],
  "metadata": {
    "colab": {
      "provenance": []
    },
    "kernelspec": {
      "display_name": "Python 3",
      "name": "python3"
    },
    "language_info": {
      "name": "python"
    }
  },
  "nbformat": 4,
  "nbformat_minor": 0
}
